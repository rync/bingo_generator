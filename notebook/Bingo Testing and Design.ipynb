{
 "cells": [
  {
   "cell_type": "markdown",
   "metadata": {},
   "source": [
    "# Bingo Generator Testing and Design\n",
    "\n",
    "We need a way to generate a bunch of randomly generated bingo cards from a list of words.\n",
    "\n",
    "This presents us with the following requirements:\n",
    "* main.py file with the ability to accept CLI flags\n",
    "* a specifiable input file and default output folder\n",
    "* ability to ingest a list and automatically generate randomly arranged tables\n",
    "* the ability to format and style those tables, and export them as images for printing\n",
    "* The ability to anticipate that any generated card is at least xx% different from another generated card\n",
    "* default functionality to standard Bingo card generation\n",
    "\n",
    "A utility function will be created to create an array from a newline-delimited list of terms. We'll then use numpy and pandas to generate random arrangements of these terms across 25 squares (with the center square always being a FREE space, of course). From there, we'll use Pandas' `to_html()` to format and style the text with CSS, and imgkit to export this all as images in a designated output directory."
   ]
  },
  {
   "cell_type": "markdown",
   "metadata": {},
   "source": [
    "## Random Arrangement Testing"
   ]
  },
  {
   "cell_type": "code",
   "execution_count": 1,
   "metadata": {},
   "outputs": [],
   "source": [
    "import pandas as pd\n",
    "import numpy as np\n",
    "import imgkit\n",
    "import time\n",
    "import os"
   ]
  },
  {
   "cell_type": "code",
   "execution_count": 2,
   "metadata": {},
   "outputs": [],
   "source": [
    "num_list = np.arange(0, 50)\n",
    "\n",
    "def table_gen(source_list):\n",
    "    table = []\n",
    "    np.random.shuffle(source_list)\n",
    "    for i in range(0, 5): # rows\n",
    "        row = []\n",
    "        for j in range(0, 5): # columns\n",
    "            if i == 2 and j == 2:\n",
    "                row.append(\"FREE\")\n",
    "            else:\n",
    "                row.append(source_list[(i * 5) + j])\n",
    "        table.append(row)\n",
    "    return table"
   ]
  },
  {
   "cell_type": "code",
   "execution_count": 3,
   "metadata": {},
   "outputs": [
    {
     "name": "stdout",
     "output_type": "stream",
     "text": [
      "[[1, 6, 7, 19, 29], [14, 12, 22, 28, 38], [10, 23, 'FREE', 2, 24], [40, 21, 33, 44, 46], [27, 32, 25, 4, 47]]\n",
      "[[22, 41, 8, 18, 40], [33, 9, 32, 46, 42], [17, 49, 'FREE', 20, 35], [31, 25, 44, 47, 6], [45, 11, 28, 19, 21]]\n",
      "[[20, 28, 35, 42, 14], [19, 11, 23, 8, 31], [9, 13, 'FREE', 6, 45], [17, 30, 32, 10, 7], [21, 41, 40, 49, 27]]\n",
      "[[22, 45, 16, 1, 34], [15, 29, 46, 37, 4], [30, 39, 'FREE', 24, 19], [27, 20, 21, 14, 38], [2, 9, 48, 11, 35]]\n"
     ]
    }
   ],
   "source": [
    "print(table_gen(num_list))\n",
    "print(table_gen(num_list))\n",
    "print(table_gen(num_list))\n",
    "print(table_gen(num_list))"
   ]
  },
  {
   "cell_type": "markdown",
   "metadata": {},
   "source": [
    "## Determining Randomness\n",
    "\n",
    "Determining that a card if xx% unique is difficult to predict, especially on a tight timetable. Generally speaking, there are three degrees of randomness, in order of severity:\n",
    "* A value is on another card in the same exact spot\n",
    "* A value is on another card in a similar row/column\n",
    "* A value is on another card\n",
    "\n",
    "Checking for all of these is also computationally expensive, especially at scale. Generally speaking, most people won't be generating 50,000 unique bingo cards on one go. For this initial test, we'll use a point system - 5 points when the card has a value that is at an identical spot on another card, and 1 when the number is anywhere else on that card.\n",
    "\n",
    "To do this, we'll flatten each 2D array and compare each item to the corresponding list and verify, that for each card, the score is < 18 (ignoring the FREE space, of course). There's no logic to choosing this number, but score limits too low resulted in an endless running array. There's likely an optimal computation here (!n-items / 24 spaces / x number of cards, or similar)."
   ]
  },
  {
   "cell_type": "code",
   "execution_count": 4,
   "metadata": {},
   "outputs": [],
   "source": [
    "def bingo_match_score_exceed(arr1, arr2, score_limit=18):\n",
    "    score = 0\n",
    "    for i in range(0, len(arr1)):\n",
    "        if arr1[i] == 'FREE':\n",
    "            pass\n",
    "        elif arr1[i] == arr2[i]:\n",
    "            score += 5\n",
    "        elif arr1[i] in arr2:\n",
    "            score += 1\n",
    "        else:\n",
    "            score += 0\n",
    "        \n",
    "        if score > score_limit:\n",
    "            return True\n",
    "    return False\n",
    "\n",
    "def iteration_test(runs=20, score_limit=18):\n",
    "    start_time = time.time()\n",
    "    arrays = []\n",
    "    itr = 0\n",
    "    while(len(arrays) < runs):\n",
    "        cur_list = table_gen(num_list)\n",
    "        if len(arrays) == 0:\n",
    "            arrays.append(cur_list)\n",
    "        else:\n",
    "            bool_sum = False\n",
    "            for arr in arrays:\n",
    "                bool_sum += bingo_match_score_exceed(np.ravel(cur_list), np.ravel(arr), score_limit)\n",
    "            if not bool_sum:\n",
    "                arrays.append(cur_list)\n",
    "        itr += 1\n",
    "    print(\"It took {} iterations and {} seconds to generate {} arrays under a score limit of {}\"\n",
    "          .format(itr, round(time.time() - start_time, 3), len(arrays), score_limit))"
   ]
  },
  {
   "cell_type": "code",
   "execution_count": 5,
   "metadata": {},
   "outputs": [
    {
     "name": "stdout",
     "output_type": "stream",
     "text": [
      "It took 11 iterations and 0.048 seconds to generate 10 arrays under a score limit of 20\n",
      "It took 14 iterations and 0.112 seconds to generate 10 arrays under a score limit of 19\n",
      "It took 12 iterations and 0.057 seconds to generate 10 arrays under a score limit of 18\n",
      "It took 19 iterations and 0.139 seconds to generate 10 arrays under a score limit of 17\n",
      "It took 51 iterations and 1.083 seconds to generate 10 arrays under a score limit of 16\n",
      "It took 42 iterations and 1.054 seconds to generate 10 arrays under a score limit of 15\n",
      "It took 242 iterations and 3.176 seconds to generate 10 arrays under a score limit of 14\n",
      "It took 192 iterations and 1.288 seconds to generate 10 arrays under a score limit of 13\n"
     ]
    }
   ],
   "source": [
    "# Testing score limits\n",
    "iteration_test(10, 20)\n",
    "iteration_test(10, 19)\n",
    "iteration_test(10, 18)\n",
    "iteration_test(10, 17)\n",
    "iteration_test(10, 16)\n",
    "iteration_test(10, 15)\n",
    "iteration_test(10, 14)\n",
    "iteration_test(10, 13)\n",
    "# Note how drastically iterations increase for a score of 13. Below this, we get into serious trouble."
   ]
  },
  {
   "cell_type": "code",
   "execution_count": 6,
   "metadata": {},
   "outputs": [
    {
     "name": "stdout",
     "output_type": "stream",
     "text": [
      "It took 208 iterations and 6.692 seconds to generate 50 arrays under a score limit of 20\n",
      "It took 404 iterations and 13.009 seconds to generate 50 arrays under a score limit of 19\n",
      "It took 989 iterations and 33.415 seconds to generate 50 arrays under a score limit of 18\n"
     ]
    }
   ],
   "source": [
    "# Trying the same thing with a greater number of cards.\n",
    "iteration_test(50, 20)\n",
    "iteration_test(50, 19)\n",
    "iteration_test(50, 18)\n",
    "# We can see here that 18 reaches that limit pretty quickly as well."
   ]
  },
  {
   "cell_type": "markdown",
   "metadata": {},
   "source": [
    "## Pandas Image Output\n",
    "\n",
    "Note that imgkit require an install of `wkhtmltopdf`. This is simple on Linux: `sudo apt install wkhtmltopdf`, and likely on Mac if you're using Homebrow, but I'm unsure how Windows will fair."
   ]
  },
  {
   "cell_type": "code",
   "execution_count": 7,
   "metadata": {},
   "outputs": [],
   "source": [
    "css = \"\"\"\n",
    "<style type=\"text/css\">\n",
    "\n",
    "table {\n",
    "color: #333;\n",
    "font-family: Helvetica, Arial, sans-serif;\n",
    "border-collapse:\n",
    "collapse; \n",
    "border-spacing: 0;\n",
    "}\n",
    "\n",
    "td, th {\n",
    "border: 1px solid transparent; /* No more visible border */\n",
    "height: 180px;\n",
    "width: 240px;\n",
    "text-align: center;\n",
    "}\n",
    "\n",
    "th {\n",
    "background: #414141; /* Darken header a bit */\n",
    "font-weight: bold;\n",
    "font-size: 92px;\n",
    "color: #DFDFDF;\n",
    "}\n",
    "\n",
    "td {\n",
    "background: #FAFAFA;\n",
    "font-size: 32px;\n",
    "}\n",
    "\n",
    "table tr:nth-child(odd) td:nth-child(even),\n",
    "tr:nth-child(even) td:nth-child(odd) {\n",
    "background-color: #DFDFDF;\n",
    "}\n",
    "</style>\n",
    "\"\"\"\n",
    "\n",
    "def bingo_table_to_image(table, css, dest_name=\"bingo.jpg\", format=\"jpg\"):\n",
    "    try:\n",
    "        os.remove(\"bingo.html\")\n",
    "    except:\n",
    "        pass\n",
    "    \n",
    "    df = pd.DataFrame(table, columns=[\"B\", \"I\", \"N\", \"G\", \"O\"])\n",
    "    \n",
    "    f = open(\"bingo.html\", \"a\")\n",
    "    f.write(css)\n",
    "    f.write(df.to_html(index=False)) # Index = false will remove that annoying row header\n",
    "    f.close()\n",
    "    \n",
    "    imgkit.from_file(\"bingo.html\", dest_name, {\"format\": format})"
   ]
  },
  {
   "cell_type": "code",
   "execution_count": 8,
   "metadata": {},
   "outputs": [
    {
     "name": "stdout",
     "output_type": "stream",
     "text": [
      "Loading page (1/2)\n",
      "[>                                                           ] 0%\r",
      "[==============================>                             ] 50%\r",
      "[============================================================] 100%\r",
      "Rendering (2/2)                                                    \n",
      "[>                                                           ] 0%\r",
      "[===============>                                            ] 25%\r",
      "[============================================================] 100%\r",
      "Done                                                               \n"
     ]
    }
   ],
   "source": [
    "bingo_table_to_image(table_gen(num_list), css)"
   ]
  },
  {
   "cell_type": "markdown",
   "metadata": {},
   "source": [
    "## Extracting rows and columns\n",
    "\n",
    "This is needed for the new table class. This is mostly just a sanity check before implementation."
   ]
  },
  {
   "cell_type": "code",
   "execution_count": 18,
   "metadata": {},
   "outputs": [
    {
     "name": "stdout",
     "output_type": "stream",
     "text": [
      "12\n",
      "[14, 33, 3, 25, 32]\n",
      "[8, 21, 36, 10, 11]\n",
      "[7, 1, 'FREE', 24, 0]\n",
      "[46, 41, 4, 34, 20]\n",
      "[39, 26, 23, 12, 37]\n",
      "[14, 8, 7, 46, 39]\n",
      "[33, 21, 1, 41, 26]\n",
      "[3, 36, 'FREE', 4, 23]\n",
      "[25, 10, 24, 34, 12]\n",
      "[32, 11, 0, 20, 37]\n",
      "[14, 21, 'FREE', 34, 37]\n",
      "[32, 10, 'FREE', 41, 39]\n"
     ]
    }
   ],
   "source": [
    "tbl = table_gen(num_list)\n",
    "\n",
    "def generate_win_states(tbl):\n",
    "        win_states = []\n",
    "\n",
    "        # get list of columns\n",
    "        for x in range(5):\n",
    "            win_states.append([tbl[x][y] for y in range(5)])\n",
    "\n",
    "        # get list of columns\n",
    "        for y in range(5):\n",
    "            win_states.append([tbl[x][y] for x in range(5)])\n",
    "\n",
    "        # get diagonals\n",
    "        win_states.append([\n",
    "                tbl[0][0],\n",
    "                tbl[1][1],\n",
    "                tbl[2][2],\n",
    "                tbl[3][3],\n",
    "                tbl[4][4]])\n",
    "\n",
    "        win_states.append([\n",
    "                tbl[0][4],\n",
    "                tbl[1][3],\n",
    "                tbl[2][2],\n",
    "                tbl[3][1],\n",
    "                tbl[4][0]])\n",
    "\n",
    "\n",
    "        return win_states\n",
    "    \n",
    "win_states = generate_win_states(tbl)\n",
    "\n",
    "print(len(win_states))\n",
    "\n",
    "for state in win_states:\n",
    "    print(state)"
   ]
  },
  {
   "cell_type": "markdown",
   "metadata": {},
   "source": [
    "## List Comparison\n",
    "\n",
    "I'd like to avoid sorting. Sorting 5 element array is fast, but there's a lot of arrays to sort."
   ]
  },
  {
   "cell_type": "code",
   "execution_count": 23,
   "metadata": {},
   "outputs": [
    {
     "name": "stdout",
     "output_type": "stream",
     "text": [
      "{32}\n",
      "<class 'set'>\n",
      "set()\n",
      "True\n",
      "False\n"
     ]
    }
   ],
   "source": [
    "l1 = [42, 32, 25, 16, 1]\n",
    "l2 = [42, 31, 25, 16, 1]\n",
    "l3 = [32, 16, 25, 42, 1]\n",
    "\n",
    "# l2 is not quite equal to l1\n",
    "# l3 has the same contents as l1, but in a different order\n",
    "\n",
    "print(set(l1) - set(l2))\n",
    "print(type(set(l1) - set(l2)))\n",
    "print(set(l1) - set(l3))\n",
    "\n",
    "print(set(l1) == set(l3))\n",
    "print(set(l1) == set(l2))"
   ]
  },
  {
   "cell_type": "code",
   "execution_count": null,
   "metadata": {},
   "outputs": [],
   "source": []
  },
  {
   "cell_type": "code",
   "execution_count": null,
   "metadata": {},
   "outputs": [],
   "source": []
  },
  {
   "cell_type": "code",
   "execution_count": null,
   "metadata": {},
   "outputs": [],
   "source": []
  },
  {
   "cell_type": "code",
   "execution_count": null,
   "metadata": {},
   "outputs": [],
   "source": []
  },
  {
   "cell_type": "code",
   "execution_count": null,
   "metadata": {},
   "outputs": [],
   "source": []
  }
 ],
 "metadata": {
  "kernelspec": {
   "display_name": "Python 3",
   "language": "python",
   "name": "python3"
  },
  "language_info": {
   "codemirror_mode": {
    "name": "ipython",
    "version": 3
   },
   "file_extension": ".py",
   "mimetype": "text/x-python",
   "name": "python",
   "nbconvert_exporter": "python",
   "pygments_lexer": "ipython3",
   "version": "3.8.5"
  }
 },
 "nbformat": 4,
 "nbformat_minor": 4
}
