{
 "cells": [
  {
   "cell_type": "markdown",
   "metadata": {},
   "source": [
    "# Bingo Generator Testing and Design\n",
    "\n",
    "We need a way to generate a bunch of randomly generated bingo cards from a list of words.\n",
    "\n",
    "This presents us with the following requirements:\n",
    "* main.py file with the ability to accept CLI flags\n",
    "* a specifiable input file and default output folder\n",
    "* ability to ingest a list and automatically generate randomly arranged tables\n",
    "* the ability to format and style those tables, and export them as images for printing\n",
    "* The ability to anticipate that any generated card is at least xx% different from another generated card\n",
    "* default functionality to standard Bingo card generation\n",
    "\n",
    "A utility function will be created to create an array from a newline-delimited list of terms. We'll then use numpy and pandas to generate random arrangements of these terms across 25 squares (with the center square always being a FREE space, of course). From there, we'll use Pandas' `to_html()` to format and style the text with CSS, and imgkit to export this all as images in a designated output directory."
   ]
  },
  {
   "cell_type": "markdown",
   "metadata": {},
   "source": [
    "## Random Arrangement Testing"
   ]
  },
  {
   "cell_type": "code",
   "execution_count": 1,
   "metadata": {},
   "outputs": [],
   "source": [
    "import pandas as pd\n",
    "import numpy as np\n",
    "import imgkit\n",
    "import time\n",
    "import os"
   ]
  },
  {
   "cell_type": "code",
   "execution_count": 2,
   "metadata": {},
   "outputs": [],
   "source": [
    "num_list = np.arange(0, 50)\n",
    "\n",
    "def table_gen(source_list):\n",
    "    table = []\n",
    "    np.random.shuffle(source_list)\n",
    "    for i in range(0, 5): # rows\n",
    "        row = []\n",
    "        for j in range(0, 5): # columns\n",
    "            if i == 2 and j == 2:\n",
    "                row.append(\"FREE\")\n",
    "            else:\n",
    "                row.append(source_list[(i * 5) + j])\n",
    "        table.append(row)\n",
    "    return table"
   ]
  },
  {
   "cell_type": "code",
   "execution_count": 3,
   "metadata": {},
   "outputs": [
    {
     "name": "stdout",
     "output_type": "stream",
     "text": [
      "[[24, 1, 12, 2, 48], [0, 33, 5, 38, 9], [43, 47, 'FREE', 31, 6], [15, 20, 8, 4, 32], [23, 42, 37, 28, 22]]\n",
      "[[18, 47, 6, 38, 29], [36, 37, 2, 14, 35], [7, 15, 'FREE', 30, 21], [45, 8, 32, 39, 4], [44, 3, 48, 0, 11]]\n",
      "[[23, 41, 44, 5, 24], [8, 20, 25, 4, 39], [2, 28, 'FREE', 17, 30], [1, 34, 46, 38, 13], [27, 35, 3, 26, 21]]\n",
      "[[34, 28, 48, 45, 35], [23, 49, 21, 46, 9], [15, 3, 'FREE', 40, 39], [5, 47, 24, 22, 26], [10, 14, 25, 12, 33]]\n"
     ]
    }
   ],
   "source": [
    "print(table_gen(num_list))\n",
    "print(table_gen(num_list))\n",
    "print(table_gen(num_list))\n",
    "print(table_gen(num_list))"
   ]
  },
  {
   "cell_type": "markdown",
   "metadata": {},
   "source": [
    "## Determining Randomness\n",
    "\n",
    "Determining that a card if xx% unique is difficult to predict, especially on a tight timetable. Generally speaking, there are three degrees of randomness, in order of severity:\n",
    "* A value is on another card in the same exact spot\n",
    "* A value is on another card in a similar row/column\n",
    "* A value is on another card\n",
    "\n",
    "Checking for all of these is also computationally expensive, especially at scale. Generally speaking, most people won't be generating 50,000 unique bingo cards on one go. For this initial test, we'll use a point system - 5 points when the card has a value that is at an identical spot on another card, and 1 when the number is anywhere else on that card.\n",
    "\n",
    "To do this, we'll flatten each 2D array and compare each item to the corresponding list and verify, that for each card, the score is < 18 (ignoring the FREE space, of course). There's no logic to choosing this number, but score limits too low resulted in an endless running array. There's likely an optimal computation here (!n-items / 24 spaces / x number of cards, or similar)."
   ]
  },
  {
   "cell_type": "code",
   "execution_count": 4,
   "metadata": {},
   "outputs": [],
   "source": [
    "def bingo_match_score_exceed(arr1, arr2, score_limit=18):\n",
    "    score = 0\n",
    "    for i in range(0, len(arr1)):\n",
    "        if arr1[i] == 'FREE':\n",
    "            pass\n",
    "        elif arr1[i] == arr2[i]:\n",
    "            score += 5\n",
    "        elif arr1[i] in arr2:\n",
    "            score += 1\n",
    "        else:\n",
    "            score += 0\n",
    "        \n",
    "        if score > score_limit:\n",
    "            return True\n",
    "    return False\n",
    "\n",
    "def iteration_test(runs=20, score_limit=18):\n",
    "    start_time = time.time()\n",
    "    arrays = []\n",
    "    itr = 0\n",
    "    while(len(arrays) < runs):\n",
    "        cur_list = table_gen(num_list)\n",
    "        if len(arrays) == 0:\n",
    "            arrays.append(cur_list)\n",
    "        else:\n",
    "            bool_sum = False\n",
    "            for arr in arrays:\n",
    "                bool_sum += bingo_match_score_exceed(np.ravel(cur_list), np.ravel(arr), score_limit)\n",
    "            if not bool_sum:\n",
    "                arrays.append(cur_list)\n",
    "        itr += 1\n",
    "    print(\"It took {} iterations and {} seconds to generate {} arrays under a score limit of {}\"\n",
    "          .format(itr, round(time.time() - start_time, 3), len(arrays), score_limit))"
   ]
  },
  {
   "cell_type": "code",
   "execution_count": 5,
   "metadata": {},
   "outputs": [
    {
     "name": "stdout",
     "output_type": "stream",
     "text": [
      "It took 11 iterations and 0.049 seconds to generate 10 arrays under a score limit of 20\n",
      "It took 12 iterations and 0.087 seconds to generate 10 arrays under a score limit of 19\n",
      "It took 18 iterations and 0.086 seconds to generate 10 arrays under a score limit of 18\n",
      "It took 24 iterations and 0.127 seconds to generate 10 arrays under a score limit of 17\n",
      "It took 22 iterations and 0.13 seconds to generate 10 arrays under a score limit of 16\n",
      "It took 54 iterations and 0.294 seconds to generate 10 arrays under a score limit of 15\n",
      "It took 114 iterations and 0.671 seconds to generate 10 arrays under a score limit of 14\n",
      "It took 885 iterations and 6.384 seconds to generate 10 arrays under a score limit of 13\n"
     ]
    }
   ],
   "source": [
    "# Testing score limits\n",
    "iteration_test(10, 20)\n",
    "iteration_test(10, 19)\n",
    "iteration_test(10, 18)\n",
    "iteration_test(10, 17)\n",
    "iteration_test(10, 16)\n",
    "iteration_test(10, 15)\n",
    "iteration_test(10, 14)\n",
    "iteration_test(10, 13)\n",
    "# Note how drastically iterations increase for a score of 13. Below this, we get into serious trouble."
   ]
  },
  {
   "cell_type": "code",
   "execution_count": 6,
   "metadata": {},
   "outputs": [
    {
     "name": "stdout",
     "output_type": "stream",
     "text": [
      "It took 150 iterations and 4.126 seconds to generate 50 arrays under a score limit of 20\n",
      "It took 359 iterations and 12.453 seconds to generate 50 arrays under a score limit of 19\n",
      "It took 787 iterations and 25.6 seconds to generate 50 arrays under a score limit of 18\n"
     ]
    }
   ],
   "source": [
    "# Trying the same thing with a greater number of cards.\n",
    "iteration_test(50, 20)\n",
    "iteration_test(50, 19)\n",
    "iteration_test(50, 18)\n",
    "# We can see here that 18 reaches that limit pretty quickly as well."
   ]
  },
  {
   "cell_type": "markdown",
   "metadata": {},
   "source": [
    "## Pandas Image Output\n",
    "\n",
    "Note that imgkit require an install of `wkhtmltopdf`. This is simple on Linux: `sudo apt install wkhtmltopdf`, and likely on Mac if you're using Homebrow, but I'm unsure how Windows will fair."
   ]
  },
  {
   "cell_type": "code",
   "execution_count": 7,
   "metadata": {},
   "outputs": [],
   "source": [
    "css = \"\"\"\n",
    "<style type=\"text/css\">\n",
    "\n",
    "table {\n",
    "color: #333;\n",
    "font-family: Helvetica, Arial, sans-serif;\n",
    "border-collapse:\n",
    "collapse; \n",
    "border-spacing: 0;\n",
    "}\n",
    "\n",
    "td, th {\n",
    "border: 1px solid transparent; /* No more visible border */\n",
    "height: 180px;\n",
    "width: 240px;\n",
    "text-align: center;\n",
    "}\n",
    "\n",
    "th {\n",
    "background: #414141; /* Darken header a bit */\n",
    "font-weight: bold;\n",
    "font-size: 92px;\n",
    "color: #DFDFDF;\n",
    "}\n",
    "\n",
    "td {\n",
    "background: #FAFAFA;\n",
    "font-size: 32px;\n",
    "}\n",
    "\n",
    "table tr:nth-child(odd) td:nth-child(even),\n",
    "tr:nth-child(even) td:nth-child(odd) {\n",
    "background-color: #DFDFDF;\n",
    "}\n",
    "</style>\n",
    "\"\"\"\n",
    "\n",
    "def bingo_table_to_image(table, css, dest_name=\"bingo.jpg\", format=\"jpg\"):\n",
    "    try:\n",
    "        os.remove(\"bingo.html\")\n",
    "    except:\n",
    "        pass\n",
    "    \n",
    "    df = pd.DataFrame(table, columns=[\"B\", \"I\", \"N\", \"G\", \"O\"])\n",
    "    \n",
    "    f = open(\"bingo.html\", \"a\")\n",
    "    f.write(css)\n",
    "    f.write(df.to_html(index=False)) # Index = false will remove that annoying row header\n",
    "    f.close()\n",
    "    \n",
    "    imgkit.from_file(\"bingo.html\", dest_name, {\"format\": format})"
   ]
  },
  {
   "cell_type": "code",
   "execution_count": 8,
   "metadata": {},
   "outputs": [
    {
     "name": "stdout",
     "output_type": "stream",
     "text": [
      "Loading page (1/2)\n",
      "[>                                                           ] 0%\r",
      "[==============================>                             ] 50%\r",
      "[============================================================] 100%\r",
      "Rendering (2/2)                                                    \n",
      "[>                                                           ] 0%\r",
      "[===============>                                            ] 25%\r",
      "[============================================================] 100%\r",
      "Done                                                               \n"
     ]
    }
   ],
   "source": [
    "bingo_table_to_image(table_gen(num_list), css)"
   ]
  }
 ],
 "metadata": {
  "kernelspec": {
   "display_name": "Python 3",
   "language": "python",
   "name": "python3"
  },
  "language_info": {
   "codemirror_mode": {
    "name": "ipython",
    "version": 3
   },
   "file_extension": ".py",
   "mimetype": "text/x-python",
   "name": "python",
   "nbconvert_exporter": "python",
   "pygments_lexer": "ipython3",
   "version": "3.8.5"
  }
 },
 "nbformat": 4,
 "nbformat_minor": 4
}
